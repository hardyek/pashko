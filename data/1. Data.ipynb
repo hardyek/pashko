{
 "cells": [
  {
   "cell_type": "markdown",
   "metadata": {},
   "source": [
    "Dataset: https://huggingface.co/datasets/Bingsu/openwebtext_20p"
   ]
  },
  {
   "cell_type": "code",
   "execution_count": 1,
   "metadata": {},
   "outputs": [
    {
     "data": {
      "application/vnd.jupyter.widget-view+json": {
       "model_id": "946d745b5e7f43f19482b41418cbc3f9",
       "version_major": 2,
       "version_minor": 0
      },
      "text/plain": [
       "Resolving data files:   0%|          | 0/17 [00:00<?, ?it/s]"
      ]
     },
     "metadata": {},
     "output_type": "display_data"
    }
   ],
   "source": [
    "from datasets import load_dataset\n",
    "dataset = load_dataset(\"Bingsu/openwebtext_20p\")"
   ]
  },
  {
   "cell_type": "code",
   "execution_count": 2,
   "metadata": {},
   "outputs": [
    {
     "data": {
      "text/plain": [
       "{'text': 'If you live abroad and are requesting an ITIN for a foreign child who has been adopted or legally placed in your home pending adoption, remember to include a copy of the legal documents evidencing your relationship to the child.'}"
      ]
     },
     "execution_count": 2,
     "metadata": {},
     "output_type": "execute_result"
    }
   ],
   "source": [
    "dataset['train'][0]"
   ]
  },
  {
   "cell_type": "code",
   "execution_count": 3,
   "metadata": {},
   "outputs": [
    {
     "data": {
      "text/plain": [
       "['If you live abroad and are requesting an ITIN for a foreign child who has been adopted or legally placed in your home pending adoption, remember to include a copy of the legal documents evidencing your relationship to the child.',\n",
       " 'If you live abroad and are requesting an ITIN for a foreign child who has been adopted or legally placed in your home pending adoption, remember to include a copy of the legal documents evidencing your relationship to the child.',\n",
       " \"When it comes to ITINs for dependents only IRS employees serving as certifying acceptance agents are empowered to evaluate your dependent's passport on the spot and immediately return the passport.\",\n",
       " \"When it comes to ITINs for dependents only IRS employees serving as certifying acceptance agents are empowered to evaluate your dependent's passport on the spot and immediately return the passport.\",\n",
       " 'Protesters take to the street in Chicago after recent grand jury decisions in police-involved deaths in New York, Cleveland and Ferguson, Mo. (Photo by Tasos Katopodis/Getty Images)',\n",
       " 'Congress reauthorized legislation this week that will require states to report the number of people killed during an arrest or while in police custody.',\n",
       " '\"You can\\'t begin to improve the situation unless you know what the situation is,\" Rep. Bobby Scott (D-Va.), one of the bill\\'s sponsors, said in an interview with the Washington Post. \"We will now have the data.\"',\n",
       " 'The Death in Custody Reporting Act was originally passed in 2000, but expired in 2006. Scott has attempted to reauthorize the bill unsuccessfully four times since then.',\n",
       " 'The first time the bill was passed, it took years for data to start coming in, and it expired shortly thereafter, Scott said.',\n",
       " '\"It\\'s the way government works,\" he said. \"You\\'re trying to get local governments to make periodic reports. It just takes some time for this to become routine.\"']"
      ]
     },
     "execution_count": 3,
     "metadata": {},
     "output_type": "execute_result"
    }
   ],
   "source": [
    "dataset['train'][:10]['text']"
   ]
  }
 ],
 "metadata": {
  "kernelspec": {
   "display_name": "Python 3 (ipykernel)",
   "language": "python",
   "name": "python3"
  },
  "language_info": {
   "codemirror_mode": {
    "name": "ipython",
    "version": 3
   },
   "file_extension": ".py",
   "mimetype": "text/x-python",
   "name": "python",
   "nbconvert_exporter": "python",
   "pygments_lexer": "ipython3",
   "version": "3.11.5"
  }
 },
 "nbformat": 4,
 "nbformat_minor": 2
}
