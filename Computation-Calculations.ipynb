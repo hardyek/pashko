{
 "cells": [
  {
   "cell_type": "code",
   "execution_count": 14,
   "metadata": {},
   "outputs": [],
   "source": [
    "from dataclasses import dataclass\n",
    "from Model import PashkoModel\n",
    "import torch\n",
    "\n",
    "@dataclass\n",
    "class PashkoConfig:\n",
    "    sequence_length: int = 1024\n",
    "    vocab_size: int = 50304\n",
    "    embed_dim: int = 768\n",
    "\n",
    "    encoder = 'gpt2'\n",
    "\n",
    "    num_heads: int = 12\n",
    "    num_blocks: int = 12\n",
    "\n",
    "    dropout: float = 0.0\n",
    "\n",
    "    ffnn_bias: bool = False\n",
    "    qkv_bias: bool = False\n",
    "    layernorm_bias: bool = False\n",
    "\n",
    "    topK: int = 10\n",
    "    temperature: float = 1.0\n",
    "\n",
    "if torch.cuda.is_available():\n",
    "    device = torch.device(\"cuda\")\n",
    "else:\n",
    "    device = torch.device(\"cpu\")\n",
    "\n",
    "Pashko = PashkoModel(PashkoConfig())"
   ]
  },
  {
   "cell_type": "code",
   "execution_count": 15,
   "metadata": {},
   "outputs": [
    {
     "name": "stdout",
     "output_type": "stream",
     "text": [
      "Number of parameters roughly 123.60M, exactly = 123595776\n"
     ]
    }
   ],
   "source": [
    "num_params = Pashko.num_params()[1]\n",
    "print(f\"Number of parameters roughly {Pashko.num_params()[0]}, exactly = {Pashko.num_params()[1]}\")"
   ]
  },
  {
   "cell_type": "markdown",
   "metadata": {},
   "source": [
    "Memory Size of Checkpoints"
   ]
  },
  {
   "cell_type": "code",
   "execution_count": 16,
   "metadata": {},
   "outputs": [
    {
     "name": "stdout",
     "output_type": "stream",
     "text": [
      "Estimated checkpoint size: 1.48 GB\n"
     ]
    }
   ],
   "source": [
    "parameter_bytes = num_params*4 #32 Bit Floating Point\n",
    "parameter_bytes *= 3 #2 Extra per parameter for optimiser\n",
    "print(f\"Estimated checkpoint size: {parameter_bytes/1e9:.2f} GB\")"
   ]
  },
  {
   "cell_type": "markdown",
   "metadata": {},
   "source": [
    "GPU Memory"
   ]
  },
  {
   "cell_type": "code",
   "execution_count": 17,
   "metadata": {},
   "outputs": [
    {
     "name": "stdout",
     "output_type": "stream",
     "text": [
      "Memory taken up in GPU for parameters: 12.36%\n"
     ]
    }
   ],
   "source": [
    "available_memory = 12e9 #Memory available on my graphics card 3080ti\n",
    "print(f\"Memory taken up in GPU for parameters: {parameter_bytes/available_memory * 100:.2f}%\")"
   ]
  },
  {
   "cell_type": "markdown",
   "metadata": {},
   "source": [
    "FLOP Estimations (Formula from PALM paper)"
   ]
  },
  {
   "cell_type": "code",
   "execution_count": 18,
   "metadata": {},
   "outputs": [
    {
     "data": {
      "text/plain": [
       "875336564736"
      ]
     },
     "execution_count": 18,
     "metadata": {},
     "output_type": "execute_result"
    }
   ],
   "source": [
    "config = PashkoConfig()\n",
    "def palm_flops():\n",
    "    L, H, Q, T = config.num_blocks, config.num_heads, config.embed_dim//config.num_heads, config.sequence_length\n",
    "    mf_per_token = 6*num_params + 12*L*H*Q*T\n",
    "    mf = mf_per_token * config.sequence_length\n",
    "    return mf\n",
    "palm_flops()"
   ]
  },
  {
   "cell_type": "markdown",
   "metadata": {},
   "source": [
    "Usage %"
   ]
  },
  {
   "cell_type": "code",
   "execution_count": 19,
   "metadata": {},
   "outputs": [],
   "source": [
    "input = \"silver angel at it's best\"\n",
    "input = [Pashko.Encoder.encode(input)] * 20\n",
    "input = torch.LongTensor(input)\n",
    "targets = torch.LongTensor([target for sublist in input for target in sublist])\n",
    "input = input.to(device)\n",
    "targets = targets.to(device)"
   ]
  },
  {
   "cell_type": "code",
   "execution_count": 20,
   "metadata": {},
   "outputs": [],
   "source": [
    "optimiser = torch.optim.AdamW(Pashko.parameters())"
   ]
  },
  {
   "cell_type": "code",
   "execution_count": 21,
   "metadata": {},
   "outputs": [],
   "source": [
    "Pashko = Pashko.to(device)"
   ]
  },
  {
   "cell_type": "code",
   "execution_count": 22,
   "metadata": {},
   "outputs": [
    {
     "name": "stdout",
     "output_type": "stream",
     "text": [
      "26 ms ± 824 µs per loop (mean ± std. dev. of 1000 runs, 10 loops each)\n"
     ]
    }
   ],
   "source": [
    "%%timeit -r 1000\n",
    "optimiser.zero_grad()\n",
    "_, loss = Pashko(input, targets)\n",
    "loss.backward()\n",
    "optimiser.step()"
   ]
  },
  {
   "cell_type": "code",
   "execution_count": 25,
   "metadata": {},
   "outputs": [
    {
     "name": "stdout",
     "output_type": "stream",
     "text": [
      "Fraction of GPU used: 49.51%, MFU: 0.49509986693212665\n"
     ]
    }
   ],
   "source": [
    "batch_size = 20\n",
    "measured_time = 0.26\n",
    "measured_throughput = batch_size / measured_time\n",
    "flops_achieved = palm_flops() * measured_throughput\n",
    "\n",
    "gpu_flops = 136e12\n",
    "\n",
    "mfu = flops_achieved / gpu_flops\n",
    "\n",
    "print(f\"Fraction of GPU used: {flops_achieved / gpu_flops * 100:.2f}%, MFU: {mfu}\")"
   ]
  },
  {
   "cell_type": "markdown",
   "metadata": {},
   "source": [
    "Training Time Approximation"
   ]
  },
  {
   "cell_type": "code",
   "execution_count": 26,
   "metadata": {
    "scrolled": true
   },
   "outputs": [
    {
     "name": "stdout",
     "output_type": "stream",
     "text": [
      "Time needed to train the model: 7.65 days\n"
     ]
    }
   ],
   "source": [
    "tokens_num = 300e9 // 5 #WebText_20p\n",
    "flops_throughput = gpu_flops * mfu\n",
    "flops_needed = 6 * num_params * tokens_num\n",
    "time_needed_s = flops_needed / flops_throughput\n",
    "print(f\"Time needed to train the model: {time_needed_s/3600/24:.2f} days\")"
   ]
  }
 ],
 "metadata": {
  "kernelspec": {
   "display_name": "Python 3 (ipykernel)",
   "language": "python",
   "name": "python3"
  },
  "language_info": {
   "codemirror_mode": {
    "name": "ipython",
    "version": 3
   },
   "file_extension": ".py",
   "mimetype": "text/x-python",
   "name": "python",
   "nbconvert_exporter": "python",
   "pygments_lexer": "ipython3",
   "version": "3.11.5"
  }
 },
 "nbformat": 4,
 "nbformat_minor": 2
}
