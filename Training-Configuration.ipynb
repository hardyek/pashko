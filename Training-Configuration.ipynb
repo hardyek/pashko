{
 "cells": [
  {
   "cell_type": "code",
   "execution_count": 1,
   "metadata": {},
   "outputs": [],
   "source": [
    "from dataclasses import dataclass\n",
    "from Model import PashkoModel\n",
    "import os\n",
    "import torch\n",
    "import time"
   ]
  },
  {
   "cell_type": "code",
   "execution_count": 2,
   "metadata": {},
   "outputs": [],
   "source": [
    "@dataclass\n",
    "class PashkoModelConfig:\n",
    "    sequence_length: int = 1024\n",
    "    vocab_size: int = 50304\n",
    "    embed_dim: int = 768\n",
    "\n",
    "    encoder = 'gpt2'\n",
    "\n",
    "    num_heads: int = 12\n",
    "    num_blocks: int = 12\n",
    "\n",
    "    dropout: float = 0.0\n",
    "\n",
    "    ffnn_bias: bool = False\n",
    "    qkv_bias: bool = False\n",
    "    layernorm_bias: bool = False\n",
    "\n",
    "    topK: int = 10\n",
    "    temperature: float = 1.0\n",
    "\n",
    "@dataclass\n",
    "class PashkoTrainConfig:\n",
    "    batch_size: int = 64\n",
    "\n",
    "    learning_rate: float = 0.001\n",
    "    betas: tuple = (0.9, 0.999)\n",
    "    weight_decay: float = 0.01\n",
    "        \n",
    "    max_iterations: int = 600000"
   ]
  },
  {
   "cell_type": "code",
   "execution_count": 3,
   "metadata": {},
   "outputs": [],
   "source": [
    "modelConfig = PashkoModelConfig()\n",
    "trainConfig = PashkoTrainConfig()\n",
    "iter_num = 0\n",
    "ckpt_num = 0\n",
    "best_val_loss = 1e9"
   ]
  },
  {
   "cell_type": "code",
   "execution_count": 4,
   "metadata": {},
   "outputs": [],
   "source": [
    "device = \"cuda\" if torch.cuda.is_available() else \"cpu\""
   ]
  },
  {
   "cell_type": "code",
   "execution_count": 5,
   "metadata": {},
   "outputs": [
    {
     "name": "stdout",
     "output_type": "stream",
     "text": [
      "Type of initialisation... scratch\n",
      "Initialised new model with 123.60M parameters\n",
      "Initialised optimiser using trainConfig\n",
      "Saved initial checkpoint as ckpt0.pt\n",
      "Initialisation complete\n"
     ]
    }
   ],
   "source": [
    "print(\"Type of initialisation...\", end=' ', flush=True)\n",
    "init_type = input()\n",
    "print(init_type)\n",
    "\n",
    "if init_type == \"scratch\":\n",
    "    Pashko = PashkoModel(modelConfig)\n",
    "    print(f\"Initialised new model with {Pashko.num_params()[0]} parameters\")\n",
    "\n",
    "    optimiser = torch.optim.AdamW(Pashko.parameters(),\n",
    "                              lr=trainConfig.learning_rate,\n",
    "                              betas=trainConfig.betas,\n",
    "                              weight_decay=trainConfig.weight_decay)\n",
    "    \n",
    "    print(\"Initialised optimiser using trainConfig\")\n",
    "\n",
    "    checkpoint = {\n",
    "                    'model': Pashko.state_dict(),\n",
    "                    'optimiser': optimiser.state_dict(),\n",
    "                    'iter_num': iter_num,\n",
    "                    'ckpt_num': ckpt_num,\n",
    "                    'best_val_loss': best_val_loss,\n",
    "                    'model_config': modelConfig,\n",
    "                    'train_config': trainConfig,\n",
    "                }\n",
    "    \n",
    "    torch.save(checkpoint, os.path.join('checkpoints', f'ckpt{ckpt_num}.pashko'))\n",
    "\n",
    "    print(f\"Saved initial checkpoint as ckpt{ckpt_num}.pt\")\n",
    "\n",
    "    print(\"Initialisation complete\")\n",
    "\n",
    "elif init_type == \"resume\":\n",
    "    print(\"Checkpoint name...\", end=' ', flush=True)\n",
    "    ckpt_name = input()\n",
    "    print(ckpt_name)\n",
    "\n",
    "    ckpt_path = os.path.join('checkpoints', f'{ckpt_name}.pashko')\n",
    "    ckpt = torch.load(ckpt_path, map_location=device)\n",
    "\n",
    "    modelConfig = ckpt['model_config']\n",
    "    trainConfig = ckpt['train_config']\n",
    "\n",
    "    Pashko = PashkoModel(modelConfig)\n",
    "    Pashko.load_state_dict(ckpt['model'])\n",
    "\n",
    "    print(f\"Loaded model from checkpoint {ckpt_name}\")\n",
    "\n",
    "    optimiser = torch.optim.AdamW(Pashko.parameters(),\n",
    "                              lr=trainConfig.learning_rate,\n",
    "                              betas=trainConfig.betas,\n",
    "                              weight_decay=trainConfig.weight_decay)\n",
    "    \n",
    "    optimiser.load_state_dict(ckpt['optimiser'])\n",
    "\n",
    "    print(f\"Loaded optimiser from checkpoint {ckpt_name}\")\n",
    "\n",
    "    iter_num = ckpt['iter_num']\n",
    "    ckpt_num = ckpt['ckpt_num']\n",
    "    best_val_loss = ckpt['best_val_loss']\n",
    "\n",
    "    print(\"Initialisation complete\")"
   ]
  },
  {
   "cell_type": "code",
   "execution_count": null,
   "metadata": {},
   "outputs": [],
   "source": [
    "checkpoint = {\n",
    "                    'model': Pashko.state_dict(),\n",
    "                    'optimiser': optimiser.state_dict(),\n",
    "                    'iter_num': iter_num,\n",
    "                    'ckpt_num': ckpt_num,\n",
    "                    'best_val_loss': best_val_loss,\n",
    "                    'model_config': modelConfig,\n",
    "                    'train_config': trainConfig,\n",
    "                }"
   ]
  },
  {
   "cell_type": "code",
   "execution_count": null,
   "metadata": {},
   "outputs": [],
   "source": [
    "t0 = time.time()\n",
    "x, targets = get_batch('train')\n",
    "while True:\n",
    "    "
   ]
  }
 ],
 "metadata": {
  "kernelspec": {
   "display_name": "Python 3 (ipykernel)",
   "language": "python",
   "name": "python3"
  },
  "language_info": {
   "codemirror_mode": {
    "name": "ipython",
    "version": 3
   },
   "file_extension": ".py",
   "mimetype": "text/x-python",
   "name": "python",
   "nbconvert_exporter": "python",
   "pygments_lexer": "ipython3",
   "version": "3.11.5"
  }
 },
 "nbformat": 4,
 "nbformat_minor": 2
}
