{
 "cells": [
  {
   "cell_type": "code",
   "execution_count": 2,
   "metadata": {},
   "outputs": [],
   "source": [
    "from dataclasses import dataclass\n",
    "from Model import PashkoModel\n",
    "import torch"
   ]
  },
  {
   "cell_type": "code",
   "execution_count": 14,
   "metadata": {},
   "outputs": [],
   "source": [
    "@dataclass\n",
    "class PashkoModelConfig:\n",
    "    sequence_length: int = 1024\n",
    "    vocab_size: int = 50304\n",
    "    embed_dim: int = 768\n",
    "\n",
    "    encoder = 'gpt2'\n",
    "\n",
    "    num_heads: int = 12\n",
    "    num_blocks: int = 12\n",
    "\n",
    "    dropout: float = 0.0\n",
    "\n",
    "    ffnn_bias: bool = False\n",
    "    qkv_bias: bool = False\n",
    "    layernorm_bias: bool = False\n",
    "\n",
    "    topK: int = 10\n",
    "    temperature: float = 1.0"
   ]
  },
  {
   "cell_type": "code",
   "execution_count": 15,
   "metadata": {},
   "outputs": [],
   "source": [
    "@dataclass\n",
    "class PashkoTrainConfig:\n",
    "    batch_size: int = 64\n",
    "\n",
    "    learning_rate: float = 0.001\n",
    "    betas: tuple = (0.9, 0.999)\n",
    "    weight_decay: float = 0.01\n",
    "        \n",
    "    epochs: int = 1000"
   ]
  },
  {
   "cell_type": "code",
   "execution_count": 19,
   "metadata": {},
   "outputs": [
    {
     "ename": "NameError",
     "evalue": "name 'PashkoModelConfig' is not defined",
     "output_type": "error",
     "traceback": [
      "\u001b[1;31m---------------------------------------------------------------------------\u001b[0m",
      "\u001b[1;31mNameError\u001b[0m                                 Traceback (most recent call last)",
      "Cell \u001b[1;32mIn[19], line 1\u001b[0m\n\u001b[1;32m----> 1\u001b[0m modelConfig \u001b[38;5;241m=\u001b[39m PashkoModelConfig()\n\u001b[0;32m      2\u001b[0m trainConfig \u001b[38;5;241m=\u001b[39m PashkoTrainConfig()\n",
      "\u001b[1;31mNameError\u001b[0m: name 'PashkoModelConfig' is not defined"
     ]
    }
   ],
   "source": [
    "modelConfig = PashkoModelConfig()\n",
    "trainConfig = PashkoTrainConfig()"
   ]
  },
  {
   "cell_type": "code",
   "execution_count": 13,
   "metadata": {},
   "outputs": [],
   "source": [
    "Pashko = PashkoModel(PashkoConfig)\n",
    "optimiser = torch.optim.AdamW(Pashko.parameters(),trainConfig.learning_rate,trainConfig.betas,trainConfig.weight_decay)"
   ]
  }
 ],
 "metadata": {
  "kernelspec": {
   "display_name": "Python 3 (ipykernel)",
   "language": "python",
   "name": "python3"
  },
  "language_info": {
   "codemirror_mode": {
    "name": "ipython",
    "version": 3
   },
   "file_extension": ".py",
   "mimetype": "text/x-python",
   "name": "python",
   "nbconvert_exporter": "python",
   "pygments_lexer": "ipython3",
   "version": "3.11.5"
  }
 },
 "nbformat": 4,
 "nbformat_minor": 2
}
