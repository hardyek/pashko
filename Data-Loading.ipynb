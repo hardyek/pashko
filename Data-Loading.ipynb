{
 "cells": [
  {
   "cell_type": "markdown",
   "metadata": {},
   "source": [
    "Dataset: https://huggingface.co/datasets/Bingsu/openwebtext_20p"
   ]
  },
  {
   "cell_type": "code",
   "execution_count": 24,
   "metadata": {},
   "outputs": [
    {
     "data": {
      "application/vnd.jupyter.widget-view+json": {
       "model_id": "e0bdf26dcea14becbe2a7d730a6517d1",
       "version_major": 2,
       "version_minor": 0
      },
      "text/plain": [
       "Resolving data files:   0%|          | 0/17 [00:00<?, ?it/s]"
      ]
     },
     "metadata": {},
     "output_type": "display_data"
    }
   ],
   "source": [
    "from datasets import load_dataset\n",
    "dataset = load_dataset(\"Bingsu/openwebtext_20p\")"
   ]
  },
  {
   "cell_type": "code",
   "execution_count": 25,
   "metadata": {},
   "outputs": [],
   "source": [
    "datasettext= dataset['train'][:]['text']"
   ]
  },
  {
   "cell_type": "code",
   "execution_count": 32,
   "metadata": {},
   "outputs": [],
   "source": [
    "dataset = datasettext[:1024]"
   ]
  },
  {
   "cell_type": "code",
   "execution_count": 33,
   "metadata": {},
   "outputs": [],
   "source": [
    "import tiktoken\n",
    "encoder = tiktoken.get_encoding('gpt2')"
   ]
  },
  {
   "cell_type": "code",
   "execution_count": 34,
   "metadata": {},
   "outputs": [],
   "source": [
    "dataset = [encoder.encode(string) for string in dataset]"
   ]
  },
  {
   "cell_type": "code",
   "execution_count": 37,
   "metadata": {},
   "outputs": [
    {
     "data": {
      "text/plain": [
       "50256"
      ]
     },
     "execution_count": 37,
     "metadata": {},
     "output_type": "execute_result"
    }
   ],
   "source": [
    "50256"
   ]
  },
  {
   "cell_type": "code",
   "execution_count": 38,
   "metadata": {},
   "outputs": [],
   "source": [
    "for arr in dataset:\n",
    "    arr.append(50256)"
   ]
  },
  {
   "cell_type": "code",
   "execution_count": 42,
   "metadata": {},
   "outputs": [
    {
     "data": {
      "text/plain": [
       "416"
      ]
     },
     "execution_count": 42,
     "metadata": {},
     "output_type": "execute_result"
    }
   ],
   "source": [
    "dataset_lengths = [len(arr) for arr in dataset]\n",
    "max(dataset_lengths)"
   ]
  },
  {
   "cell_type": "code",
   "execution_count": 43,
   "metadata": {},
   "outputs": [],
   "source": [
    "split = round(len(dataset) * 0.8)"
   ]
  },
  {
   "cell_type": "code",
   "execution_count": 134,
   "metadata": {},
   "outputs": [],
   "source": [
    "import torch\n",
    "import numpy as np\n",
    "sequence_length = 512\n",
    "batch_size = 64"
   ]
  },
  {
   "cell_type": "code",
   "execution_count": 135,
   "metadata": {},
   "outputs": [],
   "source": [
    "train_data = dataset[:split]\n",
    "val_data = dataset[split:]"
   ]
  },
  {
   "cell_type": "code",
   "execution_count": 136,
   "metadata": {},
   "outputs": [],
   "source": [
    "def pad_sequences_numpy(sequences):\n",
    "    padded_sequences = np.full((len(sequences), sequence_length), -1, dtype=np.int32)\n",
    "    for i, seq in enumerate(sequences):\n",
    "        seq_len = min(len(seq), sequence_length)\n",
    "        padded_sequences[i, :seq_len] = np.array(seq[:seq_len])\n",
    "    return padded_sequences\n",
    "\n",
    "train_data = pad_sequences_numpy(train_data)\n",
    "val_data = pad_sequences_numpy(val_data)"
   ]
  },
  {
   "cell_type": "code",
   "execution_count": 137,
   "metadata": {},
   "outputs": [],
   "source": [
    "from torch.utils.data import DataLoader, TensorDataset\n",
    "\n",
    "train_data_tensor = torch.from_numpy(train_data).long()\n",
    "\n",
    "train_dataset = TensorDataset(train_data_tensor)\n",
    "\n",
    "\n",
    "batch_size = 64\n",
    "num_batches = len(train_dataset) // batch_size\n",
    "\n",
    "\n",
    "train_loader = DataLoader(train_dataset, batch_size=batch_size, shuffle=True, num_workers=4)    "
   ]
  },
  {
   "cell_type": "code",
   "execution_count": 141,
   "metadata": {},
   "outputs": [
    {
     "name": "stdout",
     "output_type": "stream",
     "text": [
      "torch.Size([64, 512]) torch.Size([64, 512])\n",
      "torch.Size([64, 512]) torch.Size([64, 512])\n",
      "torch.Size([64, 512]) torch.Size([64, 512])\n",
      "torch.Size([64, 512]) torch.Size([64, 512])\n",
      "torch.Size([64, 512]) torch.Size([64, 512])\n",
      "torch.Size([64, 512]) torch.Size([64, 512])\n",
      "torch.Size([64, 512]) torch.Size([64, 512])\n",
      "torch.Size([64, 512]) torch.Size([64, 512])\n",
      "torch.Size([64, 512]) torch.Size([64, 512])\n",
      "torch.Size([64, 512]) torch.Size([64, 512])\n",
      "torch.Size([64, 512]) torch.Size([64, 512])\n",
      "torch.Size([64, 512]) torch.Size([64, 512])\n",
      "torch.Size([51, 512]) torch.Size([51, 512])\n"
     ]
    }
   ],
   "source": [
    "for batch in train_loader:\n",
    "    x_batch = batch[0]\n",
    "    y_batch = torch.roll(x_batch, shifts=-1, dims=1)\n",
    "    print(x_batch.shape,y_batch.shape)"
   ]
  }
 ],
 "metadata": {
  "kernelspec": {
   "display_name": "Python 3 (ipykernel)",
   "language": "python",
   "name": "python3"
  },
  "language_info": {
   "codemirror_mode": {
    "name": "ipython",
    "version": 3
   },
   "file_extension": ".py",
   "mimetype": "text/x-python",
   "name": "python",
   "nbconvert_exporter": "python",
   "pygments_lexer": "ipython3",
   "version": "3.11.5"
  }
 },
 "nbformat": 4,
 "nbformat_minor": 2
}
